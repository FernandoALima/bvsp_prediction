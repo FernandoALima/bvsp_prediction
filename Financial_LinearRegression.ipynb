{
 "cells": [
  {
   "cell_type": "markdown",
   "metadata": {},
   "source": [
    "<b>Previsão do Mercado Financeiro Brasileiro (Índice Bovespa) com o uso de Regressão Linear</b>\n",
    "\n",
    "O objetivo deste notebook é demonstrar um exemplo de previsão do mercado financeiro brasileiro, representado por meio do índice bovespa (Ibovespa), com a técnica de Machine Learning denominada Regressão Linear. Para isso, utilizamos a linguagem de programação Python e as bibliotecas Pandas, Matplotlib Finance, Numpy e Scikit Learn. \n",
    "\n",
    "As seguintes etapas foram desenvolvidas:\n",
    "1. Carregamento e exibição dos dados\n",
    "2. Pré-processamento dos dados\n",
    "3. Criação do modelo\n",
    "4. Previsão\n",
    "\n",
    "https://medium.com/@arthuremanuel.carosia"
   ]
  },
  {
   "cell_type": "markdown",
   "metadata": {},
   "source": [
    "<b>Carregando e exibindo dados do mercado</b>"
   ]
  },
  {
   "cell_type": "code",
   "execution_count": 67,
   "metadata": {},
   "outputs": [
    {
     "data": {
      "text/html": [
       "<div>\n",
       "<style scoped>\n",
       "    .dataframe tbody tr th:only-of-type {\n",
       "        vertical-align: middle;\n",
       "    }\n",
       "\n",
       "    .dataframe tbody tr th {\n",
       "        vertical-align: top;\n",
       "    }\n",
       "\n",
       "    .dataframe thead th {\n",
       "        text-align: right;\n",
       "    }\n",
       "</style>\n",
       "<table border=\"1\" class=\"dataframe\">\n",
       "  <thead>\n",
       "    <tr style=\"text-align: right;\">\n",
       "      <th></th>\n",
       "      <th>Open</th>\n",
       "      <th>High</th>\n",
       "      <th>Low</th>\n",
       "      <th>Close</th>\n",
       "      <th>Adj Close</th>\n",
       "      <th>Volume</th>\n",
       "    </tr>\n",
       "    <tr>\n",
       "      <th>Date</th>\n",
       "      <th></th>\n",
       "      <th></th>\n",
       "      <th></th>\n",
       "      <th></th>\n",
       "      <th></th>\n",
       "      <th></th>\n",
       "    </tr>\n",
       "  </thead>\n",
       "  <tbody>\n",
       "    <tr>\n",
       "      <th>2019-12-20</th>\n",
       "      <td>115133.0</td>\n",
       "      <td>115171.0</td>\n",
       "      <td>114526.0</td>\n",
       "      <td>115121.0</td>\n",
       "      <td>115121.0</td>\n",
       "      <td>6887400.0</td>\n",
       "    </tr>\n",
       "    <tr>\n",
       "      <th>2019-12-23</th>\n",
       "      <td>115119.0</td>\n",
       "      <td>115863.0</td>\n",
       "      <td>114964.0</td>\n",
       "      <td>115863.0</td>\n",
       "      <td>115863.0</td>\n",
       "      <td>3995200.0</td>\n",
       "    </tr>\n",
       "    <tr>\n",
       "      <th>2019-12-26</th>\n",
       "      <td>115864.0</td>\n",
       "      <td>117220.0</td>\n",
       "      <td>115673.0</td>\n",
       "      <td>117203.0</td>\n",
       "      <td>117203.0</td>\n",
       "      <td>3788900.0</td>\n",
       "    </tr>\n",
       "    <tr>\n",
       "      <th>2019-12-27</th>\n",
       "      <td>117205.0</td>\n",
       "      <td>117803.0</td>\n",
       "      <td>115995.0</td>\n",
       "      <td>116534.0</td>\n",
       "      <td>116534.0</td>\n",
       "      <td>3905900.0</td>\n",
       "    </tr>\n",
       "    <tr>\n",
       "      <th>2019-12-30</th>\n",
       "      <td>116530.0</td>\n",
       "      <td>117086.0</td>\n",
       "      <td>115790.0</td>\n",
       "      <td>115964.0</td>\n",
       "      <td>115964.0</td>\n",
       "      <td>3667900.0</td>\n",
       "    </tr>\n",
       "  </tbody>\n",
       "</table>\n",
       "</div>"
      ],
      "text/plain": [
       "                Open      High       Low     Close  Adj Close     Volume\n",
       "Date                                                                    \n",
       "2019-12-20  115133.0  115171.0  114526.0  115121.0   115121.0  6887400.0\n",
       "2019-12-23  115119.0  115863.0  114964.0  115863.0   115863.0  3995200.0\n",
       "2019-12-26  115864.0  117220.0  115673.0  117203.0   117203.0  3788900.0\n",
       "2019-12-27  117205.0  117803.0  115995.0  116534.0   116534.0  3905900.0\n",
       "2019-12-30  116530.0  117086.0  115790.0  115964.0   115964.0  3667900.0"
      ]
     },
     "execution_count": 67,
     "metadata": {},
     "output_type": "execute_result"
    }
   ],
   "source": [
    "import pandas as pd\n",
    "\n",
    "stocks = pd.read_csv('./Data/Stocks/^BVSP.csv')\n",
    "stocks['Date'] = pd.to_datetime(stocks['Date'])\n",
    "stocks.set_index('Date', inplace=True)\n",
    "stocks.head()"
   ]
  },
  {
   "cell_type": "code",
   "execution_count": 42,
   "metadata": {},
   "outputs": [
    {
     "data": {
      "image/png": "[encoded data removed]",
      "text/plain": [
       "<Figure size 1440x1035 with 2 Axes>"
      ]
     },
     "metadata": {
      "needs_background": "light"
     },
     "output_type": "display_data"
    }
   ],
   "source": [
    "import mplfinance as mpf\n",
    "graph = stocks.copy()\n",
    "mpf.plot(graph, type='candle', figscale=2.5, volume=False, style='charles', ylabel='Ibovespa (R$)')"
   ]
  },
  {
   "cell_type": "code",
   "execution_count": 43,
   "metadata": {},
   "outputs": [
    {
     "data": {
      "image/png": "[encoded data removed]",
      "text/plain": [
       "<Figure size 1440x1035 with 2 Axes>"
      ]
     },
     "metadata": {
      "needs_background": "light"
     },
     "output_type": "display_data"
    }
   ],
   "source": [
    "mpf.plot(graph[pd.to_datetime('01-01-2019'):pd.to_datetime('02-01-2019')], type='candle', figscale=2.5, volume=False, style='charles', ylabel='Ibovespa (R$)')"
   ]
  },
  {
   "cell_type": "code",
   "execution_count": 44,
   "metadata": {},
   "outputs": [
    {
     "data": {
      "text/html": [
       "<div>\n",
       "<style scoped>\n",
       "    .dataframe tbody tr th:only-of-type {\n",
       "        vertical-align: middle;\n",
       "    }\n",
       "\n",
       "    .dataframe tbody tr th {\n",
       "        vertical-align: top;\n",
       "    }\n",
       "\n",
       "    .dataframe thead th {\n",
       "        text-align: right;\n",
       "    }\n",
       "</style>\n",
       "<table border=\"1\" class=\"dataframe\">\n",
       "  <thead>\n",
       "    <tr style=\"text-align: right;\">\n",
       "      <th></th>\n",
       "      <th>Open</th>\n",
       "      <th>High</th>\n",
       "      <th>Low</th>\n",
       "      <th>Close</th>\n",
       "      <th>Adj Close</th>\n",
       "      <th>Volume</th>\n",
       "    </tr>\n",
       "  </thead>\n",
       "  <tbody>\n",
       "    <tr>\n",
       "      <th>count</th>\n",
       "      <td>2473.000000</td>\n",
       "      <td>2473.000000</td>\n",
       "      <td>2473.000000</td>\n",
       "      <td>2473.000000</td>\n",
       "      <td>2473.000000</td>\n",
       "      <td>2.473000e+03</td>\n",
       "    </tr>\n",
       "    <tr>\n",
       "      <th>mean</th>\n",
       "      <td>64758.895269</td>\n",
       "      <td>65353.416498</td>\n",
       "      <td>64172.198544</td>\n",
       "      <td>64775.636474</td>\n",
       "      <td>64775.636474</td>\n",
       "      <td>3.454987e+06</td>\n",
       "    </tr>\n",
       "    <tr>\n",
       "      <th>std</th>\n",
       "      <td>15743.814350</td>\n",
       "      <td>15824.706369</td>\n",
       "      <td>15683.607588</td>\n",
       "      <td>15776.408177</td>\n",
       "      <td>15776.408177</td>\n",
       "      <td>1.410410e+06</td>\n",
       "    </tr>\n",
       "    <tr>\n",
       "      <th>min</th>\n",
       "      <td>37501.000000</td>\n",
       "      <td>38031.000000</td>\n",
       "      <td>37046.000000</td>\n",
       "      <td>37497.000000</td>\n",
       "      <td>37497.000000</td>\n",
       "      <td>0.000000e+00</td>\n",
       "    </tr>\n",
       "    <tr>\n",
       "      <th>25%</th>\n",
       "      <td>53570.000000</td>\n",
       "      <td>54113.000000</td>\n",
       "      <td>53028.000000</td>\n",
       "      <td>53570.000000</td>\n",
       "      <td>53570.000000</td>\n",
       "      <td>2.597900e+06</td>\n",
       "    </tr>\n",
       "    <tr>\n",
       "      <th>50%</th>\n",
       "      <td>61020.000000</td>\n",
       "      <td>61543.000000</td>\n",
       "      <td>60489.000000</td>\n",
       "      <td>61022.000000</td>\n",
       "      <td>61022.000000</td>\n",
       "      <td>3.323700e+06</td>\n",
       "    </tr>\n",
       "    <tr>\n",
       "      <th>75%</th>\n",
       "      <td>70429.000000</td>\n",
       "      <td>70904.000000</td>\n",
       "      <td>69947.000000</td>\n",
       "      <td>70451.000000</td>\n",
       "      <td>70451.000000</td>\n",
       "      <td>4.164800e+06</td>\n",
       "    </tr>\n",
       "    <tr>\n",
       "      <th>max</th>\n",
       "      <td>117205.000000</td>\n",
       "      <td>117803.000000</td>\n",
       "      <td>115995.000000</td>\n",
       "      <td>117203.000000</td>\n",
       "      <td>117203.000000</td>\n",
       "      <td>1.423340e+07</td>\n",
       "    </tr>\n",
       "  </tbody>\n",
       "</table>\n",
       "</div>"
      ],
      "text/plain": [
       "                Open           High            Low          Close  \\\n",
       "count    2473.000000    2473.000000    2473.000000    2473.000000   \n",
       "mean    64758.895269   65353.416498   64172.198544   64775.636474   \n",
       "std     15743.814350   15824.706369   15683.607588   15776.408177   \n",
       "min     37501.000000   38031.000000   37046.000000   37497.000000   \n",
       "25%     53570.000000   54113.000000   53028.000000   53570.000000   \n",
       "50%     61020.000000   61543.000000   60489.000000   61022.000000   \n",
       "75%     70429.000000   70904.000000   69947.000000   70451.000000   \n",
       "max    117205.000000  117803.000000  115995.000000  117203.000000   \n",
       "\n",
       "           Adj Close        Volume  \n",
       "count    2473.000000  2.473000e+03  \n",
       "mean    64775.636474  3.454987e+06  \n",
       "std     15776.408177  1.410410e+06  \n",
       "min     37497.000000  0.000000e+00  \n",
       "25%     53570.000000  2.597900e+06  \n",
       "50%     61022.000000  3.323700e+06  \n",
       "75%     70451.000000  4.164800e+06  \n",
       "max    117203.000000  1.423340e+07  "
      ]
     },
     "execution_count": 44,
     "metadata": {},
     "output_type": "execute_result"
    }
   ],
   "source": [
    "stocks.describe()"
   ]
  },
  {
   "cell_type": "code",
   "execution_count": 45,
   "metadata": {},
   "outputs": [
    {
     "name": "stdout",
     "output_type": "stream",
     "text": [
      "<class 'pandas.core.frame.DataFrame'>\n",
      "DatetimeIndex: 2480 entries, 2010-01-04 to 2019-12-30\n",
      "Data columns (total 6 columns):\n",
      "Open         2473 non-null float64\n",
      "High         2473 non-null float64\n",
      "Low          2473 non-null float64\n",
      "Close        2473 non-null float64\n",
      "Adj Close    2473 non-null float64\n",
      "Volume       2473 non-null float64\n",
      "dtypes: float64(6)\n",
      "memory usage: 135.6 KB\n"
     ]
    }
   ],
   "source": [
    "stocks.info()"
   ]
  },
  {
   "cell_type": "markdown",
   "metadata": {},
   "source": [
    "<b>Limpando os dados nulls</b>"
   ]
  },
  {
   "cell_type": "code",
   "execution_count": 46,
   "metadata": {},
   "outputs": [
    {
     "data": {
      "text/html": [
       "<div>\n",
       "<style scoped>\n",
       "    .dataframe tbody tr th:only-of-type {\n",
       "        vertical-align: middle;\n",
       "    }\n",
       "\n",
       "    .dataframe tbody tr th {\n",
       "        vertical-align: top;\n",
       "    }\n",
       "\n",
       "    .dataframe thead th {\n",
       "        text-align: right;\n",
       "    }\n",
       "</style>\n",
       "<table border=\"1\" class=\"dataframe\">\n",
       "  <thead>\n",
       "    <tr style=\"text-align: right;\">\n",
       "      <th></th>\n",
       "      <th>Open</th>\n",
       "      <th>High</th>\n",
       "      <th>Low</th>\n",
       "      <th>Close</th>\n",
       "      <th>Adj Close</th>\n",
       "      <th>Volume</th>\n",
       "    </tr>\n",
       "    <tr>\n",
       "      <th>Date</th>\n",
       "      <th></th>\n",
       "      <th></th>\n",
       "      <th></th>\n",
       "      <th></th>\n",
       "      <th></th>\n",
       "      <th></th>\n",
       "    </tr>\n",
       "  </thead>\n",
       "  <tbody>\n",
       "    <tr>\n",
       "      <th>2017-06-15</th>\n",
       "      <td>NaN</td>\n",
       "      <td>NaN</td>\n",
       "      <td>NaN</td>\n",
       "      <td>NaN</td>\n",
       "      <td>NaN</td>\n",
       "      <td>NaN</td>\n",
       "    </tr>\n",
       "    <tr>\n",
       "      <th>2017-09-07</th>\n",
       "      <td>NaN</td>\n",
       "      <td>NaN</td>\n",
       "      <td>NaN</td>\n",
       "      <td>NaN</td>\n",
       "      <td>NaN</td>\n",
       "      <td>NaN</td>\n",
       "    </tr>\n",
       "    <tr>\n",
       "      <th>2017-10-12</th>\n",
       "      <td>NaN</td>\n",
       "      <td>NaN</td>\n",
       "      <td>NaN</td>\n",
       "      <td>NaN</td>\n",
       "      <td>NaN</td>\n",
       "      <td>NaN</td>\n",
       "    </tr>\n",
       "    <tr>\n",
       "      <th>2017-11-02</th>\n",
       "      <td>NaN</td>\n",
       "      <td>NaN</td>\n",
       "      <td>NaN</td>\n",
       "      <td>NaN</td>\n",
       "      <td>NaN</td>\n",
       "      <td>NaN</td>\n",
       "    </tr>\n",
       "    <tr>\n",
       "      <th>2017-11-20</th>\n",
       "      <td>NaN</td>\n",
       "      <td>NaN</td>\n",
       "      <td>NaN</td>\n",
       "      <td>NaN</td>\n",
       "      <td>NaN</td>\n",
       "      <td>NaN</td>\n",
       "    </tr>\n",
       "    <tr>\n",
       "      <th>2017-12-25</th>\n",
       "      <td>NaN</td>\n",
       "      <td>NaN</td>\n",
       "      <td>NaN</td>\n",
       "      <td>NaN</td>\n",
       "      <td>NaN</td>\n",
       "      <td>NaN</td>\n",
       "    </tr>\n",
       "    <tr>\n",
       "      <th>2018-02-14</th>\n",
       "      <td>NaN</td>\n",
       "      <td>NaN</td>\n",
       "      <td>NaN</td>\n",
       "      <td>NaN</td>\n",
       "      <td>NaN</td>\n",
       "      <td>NaN</td>\n",
       "    </tr>\n",
       "  </tbody>\n",
       "</table>\n",
       "</div>"
      ],
      "text/plain": [
       "            Open  High  Low  Close  Adj Close  Volume\n",
       "Date                                                 \n",
       "2017-06-15   NaN   NaN  NaN    NaN        NaN     NaN\n",
       "2017-09-07   NaN   NaN  NaN    NaN        NaN     NaN\n",
       "2017-10-12   NaN   NaN  NaN    NaN        NaN     NaN\n",
       "2017-11-02   NaN   NaN  NaN    NaN        NaN     NaN\n",
       "2017-11-20   NaN   NaN  NaN    NaN        NaN     NaN\n",
       "2017-12-25   NaN   NaN  NaN    NaN        NaN     NaN\n",
       "2018-02-14   NaN   NaN  NaN    NaN        NaN     NaN"
      ]
     },
     "execution_count": 46,
     "metadata": {},
     "output_type": "execute_result"
    }
   ],
   "source": [
    "stocks_null = stocks[stocks.Open.isnull()]\n",
    "stocks_null"
   ]
  },
  {
   "cell_type": "code",
   "execution_count": 47,
   "metadata": {},
   "outputs": [
    {
     "name": "stdout",
     "output_type": "stream",
     "text": [
      "<class 'pandas.core.frame.DataFrame'>\n",
      "DatetimeIndex: 2473 entries, 2010-01-04 to 2019-12-30\n",
      "Data columns (total 6 columns):\n",
      "Open         2473 non-null float64\n",
      "High         2473 non-null float64\n",
      "Low          2473 non-null float64\n",
      "Close        2473 non-null float64\n",
      "Adj Close    2473 non-null float64\n",
      "Volume       2473 non-null float64\n",
      "dtypes: float64(6)\n",
      "memory usage: 135.2 KB\n"
     ]
    }
   ],
   "source": [
    "stocks = stocks.drop(stocks_null.index)\n",
    "stocks.info()"
   ]
  },
  {
   "cell_type": "markdown",
   "metadata": {},
   "source": [
    "<b>Preparando o modelo de regressão linear</b>"
   ]
  },
  {
   "cell_type": "code",
   "execution_count": 48,
   "metadata": {},
   "outputs": [
    {
     "data": {
      "text/plain": [
       "2472"
      ]
     },
     "execution_count": 48,
     "metadata": {},
     "output_type": "execute_result"
    }
   ],
   "source": [
    "#X deve estar um dia atrás de y\n",
    "x = stocks['Close'].tolist()\n",
    "x.pop()\n",
    "len(x)"
   ]
  },
  {
   "cell_type": "code",
   "execution_count": 49,
   "metadata": {},
   "outputs": [
    {
     "data": {
      "text/plain": [
       "2472"
      ]
     },
     "execution_count": 49,
     "metadata": {},
     "output_type": "execute_result"
    }
   ],
   "source": [
    "#Y deve estar Um dia à frente de x\n",
    "y = stocks['Close'].shift(-1).tolist()\n",
    "y.pop()\n",
    "len(y)"
   ]
  },
  {
   "cell_type": "code",
   "execution_count": 50,
   "metadata": {},
   "outputs": [],
   "source": [
    "import numpy as np\n",
    "x = np.asarray(x)\n",
    "y = np.asarray(y)"
   ]
  },
  {
   "cell_type": "code",
   "execution_count": 66,
   "metadata": {
    "scrolled": true
   },
   "outputs": [
    {
     "name": "stdout",
     "output_type": "stream",
     "text": [
      "Score\t 0.9924623616465346\n"
     ]
    }
   ],
   "source": [
    "#Dividindo os dados de treinamento e teste\n",
    "from sklearn.model_selection import train_test_split\n",
    "X_train, X_test, y_train, y_test = train_test_split(x.reshape(-1, 1), y.reshape(-1, 1), test_size=0.25, shuffle = False)\n",
    "\n",
    "from sklearn.linear_model import LinearRegression\n",
    "\n",
    "clf = LinearRegression().fit(X_train, y_train)\n",
    "print('Score\\t', clf.score(X_test, y_test))"
   ]
  },
  {
   "cell_type": "markdown",
   "metadata": {},
   "source": [
    "<b>Teste com dados dos primeiros dias de Janeiro de 2020</b>"
   ]
  },
  {
   "cell_type": "code",
   "execution_count": 90,
   "metadata": {},
   "outputs": [
    {
     "name": "stdout",
     "output_type": "stream",
     "text": [
      "[[118151.37439617]]\n",
      "118573.0  Down to  [[118151.37439617]]\n",
      "117707.0  Down to  [[117291.27723879]]\n",
      "116878.0  Down to  [[116467.92788144]]\n",
      "116662.0  Down to  [[116253.40018399]]\n",
      "116247.0  Down to  [[115841.22891342]]\n",
      "115947.0  Down to  [[115543.27377807]]\n"
     ]
    }
   ],
   "source": [
    "\n",
    "close_test = np.asarray([118573.00,117707.00,116878.00,116662.00,116247.00,115947.00])\n",
    "\n",
    "print(clf.predict([[118573.00]]))\n",
    "\n",
    "for value in close_test:\n",
    "    p = clf.predict(value.reshape(-1, 1))\n",
    "    if p > value: print(value, ' Up to ', p)\n",
    "    else: print(value, ' Down to ', p)"
   ]
  }
 ],
 "metadata": {
  "kernelspec": {
   "display_name": "Python 3",
   "language": "python",
   "name": "python3"
  },
  "language_info": {
   "codemirror_mode": {
    "name": "ipython",
    "version": 3
   },
   "file_extension": ".py",
   "mimetype": "text/x-python",
   "name": "python",
   "nbconvert_exporter": "python",
   "pygments_lexer": "ipython3",
   "version": "3.7.3"
  }
 },
 "nbformat": 4,
 "nbformat_minor": 4
}
